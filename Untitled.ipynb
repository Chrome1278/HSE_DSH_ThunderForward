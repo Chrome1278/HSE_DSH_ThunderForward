{
 "cells": [
  {
   "cell_type": "code",
   "execution_count": 80,
   "id": "11a2a234",
   "metadata": {
    "cellId": "5xw8eydeg4erzgxovih7y"
   },
   "outputs": [],
   "source": [
    "\n",
    "import pandas as pd\n",
    "import regex as re\n",
    "from sklearn import preprocessing"
   ]
  },
  {
   "cell_type": "code",
   "execution_count": 82,
   "id": "52bfa682",
   "metadata": {
    "cellId": "076ax9lt8r9ew6osuf0bn7p"
   },
   "outputs": [
    {
     "data": {
      "text/html": [
       "<div>\n",
       "<style scoped>\n",
       "    .dataframe tbody tr th:only-of-type {\n",
       "        vertical-align: middle;\n",
       "    }\n",
       "\n",
       "    .dataframe tbody tr th {\n",
       "        vertical-align: top;\n",
       "    }\n",
       "\n",
       "    .dataframe thead th {\n",
       "        text-align: right;\n",
       "    }\n",
       "</style>\n",
       "<table border=\"1\" class=\"dataframe\">\n",
       "  <thead>\n",
       "    <tr style=\"text-align: right;\">\n",
       "      <th></th>\n",
       "      <th>sentence</th>\n",
       "      <th>1category</th>\n",
       "      <th>2category</th>\n",
       "      <th>sentiment</th>\n",
       "    </tr>\n",
       "  </thead>\n",
       "  <tbody>\n",
       "    <tr>\n",
       "      <th>0</th>\n",
       "      <td>При этом всегда получал качественные услуги.</td>\n",
       "      <td>Communication</td>\n",
       "      <td>NaN</td>\n",
       "      <td>0</td>\n",
       "    </tr>\n",
       "    <tr>\n",
       "      <th>1</th>\n",
       "      <td>Не вижу, за что хотя бы 2 поставить, сервис на 1!</td>\n",
       "      <td>?</td>\n",
       "      <td>NaN</td>\n",
       "      <td>2</td>\n",
       "    </tr>\n",
       "    <tr>\n",
       "      <th>2</th>\n",
       "      <td>Вот так \"Мой любимый\" банк МКБ меня обманул.</td>\n",
       "      <td>?</td>\n",
       "      <td>NaN</td>\n",
       "      <td>2</td>\n",
       "    </tr>\n",
       "    <tr>\n",
       "      <th>3</th>\n",
       "      <td>Отвратительное отношение к клиентам.</td>\n",
       "      <td>Communication</td>\n",
       "      <td>NaN</td>\n",
       "      <td>2</td>\n",
       "    </tr>\n",
       "    <tr>\n",
       "      <th>4</th>\n",
       "      <td>Всегда в любое время дня и ночи помогут, ответ...</td>\n",
       "      <td>Communication</td>\n",
       "      <td>NaN</td>\n",
       "      <td>0</td>\n",
       "    </tr>\n",
       "    <tr>\n",
       "      <th>...</th>\n",
       "      <td>...</td>\n",
       "      <td>...</td>\n",
       "      <td>...</td>\n",
       "      <td>...</td>\n",
       "    </tr>\n",
       "    <tr>\n",
       "      <th>7161</th>\n",
       "      <td>Любимый Промсвязьбанк поздравляю тебя с 14 фев...</td>\n",
       "      <td>Communication</td>\n",
       "      <td>NaN</td>\n",
       "      <td>0</td>\n",
       "    </tr>\n",
       "    <tr>\n",
       "      <th>7162</th>\n",
       "      <td>Увидела рекламу на супер ставку по кредиту 6.9.</td>\n",
       "      <td>Communication</td>\n",
       "      <td>NaN</td>\n",
       "      <td>1</td>\n",
       "    </tr>\n",
       "    <tr>\n",
       "      <th>7163</th>\n",
       "      <td>И иду на встречу, готов еще заплатить % за мес...</td>\n",
       "      <td>?</td>\n",
       "      <td>NaN</td>\n",
       "      <td>1</td>\n",
       "    </tr>\n",
       "    <tr>\n",
       "      <th>7164</th>\n",
       "      <td>У меня положительное отношение к этому банку.</td>\n",
       "      <td>Quality</td>\n",
       "      <td>NaN</td>\n",
       "      <td>0</td>\n",
       "    </tr>\n",
       "    <tr>\n",
       "      <th>7165</th>\n",
       "      <td>В общей сложности через 30 мин.мы ушли из банк...</td>\n",
       "      <td>?</td>\n",
       "      <td>NaN</td>\n",
       "      <td>0</td>\n",
       "    </tr>\n",
       "  </tbody>\n",
       "</table>\n",
       "<p>7166 rows × 4 columns</p>\n",
       "</div>"
      ],
      "text/plain": [
       "                                               sentence  ... sentiment\n",
       "0          При этом всегда получал качественные услуги.  ...         0\n",
       "1     Не вижу, за что хотя бы 2 поставить, сервис на 1!  ...         2\n",
       "2          Вот так \"Мой любимый\" банк МКБ меня обманул.  ...         2\n",
       "3                  Отвратительное отношение к клиентам.  ...         2\n",
       "4     Всегда в любое время дня и ночи помогут, ответ...  ...         0\n",
       "...                                                 ...  ...       ...\n",
       "7161  Любимый Промсвязьбанк поздравляю тебя с 14 фев...  ...         0\n",
       "7162    Увидела рекламу на супер ставку по кредиту 6.9.  ...         1\n",
       "7163  И иду на встречу, готов еще заплатить % за мес...  ...         1\n",
       "7164      У меня положительное отношение к этому банку.  ...         0\n",
       "7165  В общей сложности через 30 мин.мы ушли из банк...  ...         0\n",
       "\n",
       "[7166 rows x 4 columns]"
      ]
     },
     "execution_count": 82,
     "metadata": {},
     "output_type": "execute_result"
    }
   ],
   "source": [
    "df = pd.read_csv('/home/jupyter/mnt/s3/generalvibe/data/train.csv')\n",
    "df = df.drop('Unnamed: 0', axis=1)\n",
    "df = df.drop_duplicates(subset=['sentence']).reset_index(drop=True)\n",
    "# df['sentiment'] = df['sentiment'].apply(lambda label: 1 if label == '+' elif 0 label)\n",
    "le = preprocessing.LabelEncoder()\n",
    "le.fit(df.sentiment)\n",
    "df['sentiment'] = le.transform(df.sentiment)\n",
    "df"
   ]
  },
  {
   "cell_type": "code",
   "execution_count": 83,
   "id": "bb265293",
   "metadata": {
    "cellId": "hgqlx1ee1r6qt9vl9pakj"
   },
   "outputs": [
    {
     "data": {
      "text/plain": [
       "array(['+', '?', '−'], dtype=object)"
      ]
     },
     "execution_count": 83,
     "metadata": {},
     "output_type": "execute_result"
    }
   ],
   "source": [
    "le.classes_"
   ]
  },
  {
   "cell_type": "code",
   "execution_count": 84,
   "id": "3424a4bf",
   "metadata": {
    "cellId": "04365dwoka8vzmun5yyz1id"
   },
   "outputs": [
    {
     "data": {
      "text/html": [
       "<div>\n",
       "<style scoped>\n",
       "    .dataframe tbody tr th:only-of-type {\n",
       "        vertical-align: middle;\n",
       "    }\n",
       "\n",
       "    .dataframe tbody tr th {\n",
       "        vertical-align: top;\n",
       "    }\n",
       "\n",
       "    .dataframe thead th {\n",
       "        text-align: right;\n",
       "    }\n",
       "</style>\n",
       "<table border=\"1\" class=\"dataframe\">\n",
       "  <thead>\n",
       "    <tr style=\"text-align: right;\">\n",
       "      <th></th>\n",
       "      <th></th>\n",
       "      <th>sentence</th>\n",
       "      <th>2category</th>\n",
       "    </tr>\n",
       "    <tr>\n",
       "      <th>sentiment</th>\n",
       "      <th>1category</th>\n",
       "      <th></th>\n",
       "      <th></th>\n",
       "    </tr>\n",
       "  </thead>\n",
       "  <tbody>\n",
       "    <tr>\n",
       "      <th rowspan=\"5\" valign=\"top\">0</th>\n",
       "      <th>?</th>\n",
       "      <td>482</td>\n",
       "      <td>0</td>\n",
       "    </tr>\n",
       "    <tr>\n",
       "      <th>Communication</th>\n",
       "      <td>847</td>\n",
       "      <td>41</td>\n",
       "    </tr>\n",
       "    <tr>\n",
       "      <th>Price</th>\n",
       "      <td>90</td>\n",
       "      <td>18</td>\n",
       "    </tr>\n",
       "    <tr>\n",
       "      <th>Quality</th>\n",
       "      <td>883</td>\n",
       "      <td>92</td>\n",
       "    </tr>\n",
       "    <tr>\n",
       "      <th>Safety</th>\n",
       "      <td>8</td>\n",
       "      <td>0</td>\n",
       "    </tr>\n",
       "    <tr>\n",
       "      <th rowspan=\"5\" valign=\"top\">1</th>\n",
       "      <th>?</th>\n",
       "      <td>881</td>\n",
       "      <td>0</td>\n",
       "    </tr>\n",
       "    <tr>\n",
       "      <th>Communication</th>\n",
       "      <td>109</td>\n",
       "      <td>2</td>\n",
       "    </tr>\n",
       "    <tr>\n",
       "      <th>Price</th>\n",
       "      <td>8</td>\n",
       "      <td>0</td>\n",
       "    </tr>\n",
       "    <tr>\n",
       "      <th>Quality</th>\n",
       "      <td>83</td>\n",
       "      <td>4</td>\n",
       "    </tr>\n",
       "    <tr>\n",
       "      <th>Safety</th>\n",
       "      <td>6</td>\n",
       "      <td>0</td>\n",
       "    </tr>\n",
       "    <tr>\n",
       "      <th rowspan=\"5\" valign=\"top\">2</th>\n",
       "      <th>?</th>\n",
       "      <td>883</td>\n",
       "      <td>0</td>\n",
       "    </tr>\n",
       "    <tr>\n",
       "      <th>Communication</th>\n",
       "      <td>1641</td>\n",
       "      <td>70</td>\n",
       "    </tr>\n",
       "    <tr>\n",
       "      <th>Price</th>\n",
       "      <td>54</td>\n",
       "      <td>15</td>\n",
       "    </tr>\n",
       "    <tr>\n",
       "      <th>Quality</th>\n",
       "      <td>1121</td>\n",
       "      <td>104</td>\n",
       "    </tr>\n",
       "    <tr>\n",
       "      <th>Safety</th>\n",
       "      <td>70</td>\n",
       "      <td>9</td>\n",
       "    </tr>\n",
       "  </tbody>\n",
       "</table>\n",
       "</div>"
      ],
      "text/plain": [
       "                         sentence  2category\n",
       "sentiment 1category                         \n",
       "0         ?                   482          0\n",
       "          Communication       847         41\n",
       "          Price                90         18\n",
       "          Quality             883         92\n",
       "          Safety                8          0\n",
       "1         ?                   881          0\n",
       "          Communication       109          2\n",
       "          Price                 8          0\n",
       "          Quality              83          4\n",
       "          Safety                6          0\n",
       "2         ?                   883          0\n",
       "          Communication      1641         70\n",
       "          Price                54         15\n",
       "          Quality            1121        104\n",
       "          Safety               70          9"
      ]
     },
     "execution_count": 84,
     "metadata": {},
     "output_type": "execute_result"
    }
   ],
   "source": [
    "df.groupby(['sentiment', '1category']).agg('count')"
   ]
  },
  {
   "cell_type": "code",
   "execution_count": 92,
   "id": "e86302d0",
   "metadata": {
    "cellId": "4ac2pk0dg2kj1or7l9kqg"
   },
   "outputs": [],
   "source": [
    "def check_punkt(text):\n",
    "    if re.search(r'[!?\"\\']', text):\n",
    "        return 1\n",
    "    return 0\n",
    "\n",
    "def check_nums(text):\n",
    "    if re.search(r'\\d', text):\n",
    "        return 1\n",
    "    return 0"
   ]
  },
  {
   "cell_type": "code",
   "execution_count": 94,
   "id": "dea5ce7f",
   "metadata": {
    "cellId": "u81jevu15uusy32vwtha"
   },
   "outputs": [
    {
     "data": {
      "text/html": [
       "<div>\n",
       "<style scoped>\n",
       "    .dataframe tbody tr th:only-of-type {\n",
       "        vertical-align: middle;\n",
       "    }\n",
       "\n",
       "    .dataframe tbody tr th {\n",
       "        vertical-align: top;\n",
       "    }\n",
       "\n",
       "    .dataframe thead th {\n",
       "        text-align: right;\n",
       "    }\n",
       "</style>\n",
       "<table border=\"1\" class=\"dataframe\">\n",
       "  <thead>\n",
       "    <tr style=\"text-align: right;\">\n",
       "      <th></th>\n",
       "      <th>sentence</th>\n",
       "      <th>1category</th>\n",
       "      <th>2category</th>\n",
       "      <th>sentiment</th>\n",
       "      <th>punkt</th>\n",
       "      <th>nums</th>\n",
       "    </tr>\n",
       "  </thead>\n",
       "  <tbody>\n",
       "    <tr>\n",
       "      <th>0</th>\n",
       "      <td>При этом всегда получал качественные услуги.</td>\n",
       "      <td>Communication</td>\n",
       "      <td>None</td>\n",
       "      <td>0</td>\n",
       "      <td>0</td>\n",
       "      <td>0</td>\n",
       "    </tr>\n",
       "    <tr>\n",
       "      <th>1</th>\n",
       "      <td>Не вижу, за что хотя бы 2 поставить, сервис на 1!</td>\n",
       "      <td>?</td>\n",
       "      <td>None</td>\n",
       "      <td>2</td>\n",
       "      <td>1</td>\n",
       "      <td>1</td>\n",
       "    </tr>\n",
       "    <tr>\n",
       "      <th>2</th>\n",
       "      <td>Вот так \"Мой любимый\" банк МКБ меня обманул.</td>\n",
       "      <td>?</td>\n",
       "      <td>None</td>\n",
       "      <td>2</td>\n",
       "      <td>1</td>\n",
       "      <td>0</td>\n",
       "    </tr>\n",
       "    <tr>\n",
       "      <th>3</th>\n",
       "      <td>Отвратительное отношение к клиентам.</td>\n",
       "      <td>Communication</td>\n",
       "      <td>None</td>\n",
       "      <td>2</td>\n",
       "      <td>0</td>\n",
       "      <td>0</td>\n",
       "    </tr>\n",
       "    <tr>\n",
       "      <th>4</th>\n",
       "      <td>Всегда в любое время дня и ночи помогут, ответ...</td>\n",
       "      <td>Communication</td>\n",
       "      <td>None</td>\n",
       "      <td>0</td>\n",
       "      <td>0</td>\n",
       "      <td>0</td>\n",
       "    </tr>\n",
       "    <tr>\n",
       "      <th>...</th>\n",
       "      <td>...</td>\n",
       "      <td>...</td>\n",
       "      <td>...</td>\n",
       "      <td>...</td>\n",
       "      <td>...</td>\n",
       "      <td>...</td>\n",
       "    </tr>\n",
       "    <tr>\n",
       "      <th>7161</th>\n",
       "      <td>Любимый Промсвязьбанк поздравляю тебя с 14 фев...</td>\n",
       "      <td>Communication</td>\n",
       "      <td>None</td>\n",
       "      <td>0</td>\n",
       "      <td>0</td>\n",
       "      <td>1</td>\n",
       "    </tr>\n",
       "    <tr>\n",
       "      <th>7162</th>\n",
       "      <td>Увидела рекламу на супер ставку по кредиту 6.9.</td>\n",
       "      <td>Communication</td>\n",
       "      <td>None</td>\n",
       "      <td>1</td>\n",
       "      <td>0</td>\n",
       "      <td>1</td>\n",
       "    </tr>\n",
       "    <tr>\n",
       "      <th>7163</th>\n",
       "      <td>И иду на встречу, готов еще заплатить % за мес...</td>\n",
       "      <td>?</td>\n",
       "      <td>None</td>\n",
       "      <td>1</td>\n",
       "      <td>0</td>\n",
       "      <td>1</td>\n",
       "    </tr>\n",
       "    <tr>\n",
       "      <th>7164</th>\n",
       "      <td>У меня положительное отношение к этому банку.</td>\n",
       "      <td>Quality</td>\n",
       "      <td>None</td>\n",
       "      <td>0</td>\n",
       "      <td>0</td>\n",
       "      <td>0</td>\n",
       "    </tr>\n",
       "    <tr>\n",
       "      <th>7165</th>\n",
       "      <td>В общей сложности через 30 мин.мы ушли из банк...</td>\n",
       "      <td>?</td>\n",
       "      <td>None</td>\n",
       "      <td>0</td>\n",
       "      <td>0</td>\n",
       "      <td>1</td>\n",
       "    </tr>\n",
       "  </tbody>\n",
       "</table>\n",
       "<p>7166 rows × 6 columns</p>\n",
       "</div>"
      ],
      "text/plain": [
       "                                               sentence  ... nums\n",
       "0          При этом всегда получал качественные услуги.  ...    0\n",
       "1     Не вижу, за что хотя бы 2 поставить, сервис на 1!  ...    1\n",
       "2          Вот так \"Мой любимый\" банк МКБ меня обманул.  ...    0\n",
       "3                  Отвратительное отношение к клиентам.  ...    0\n",
       "4     Всегда в любое время дня и ночи помогут, ответ...  ...    0\n",
       "...                                                 ...  ...  ...\n",
       "7161  Любимый Промсвязьбанк поздравляю тебя с 14 фев...  ...    1\n",
       "7162    Увидела рекламу на супер ставку по кредиту 6.9.  ...    1\n",
       "7163  И иду на встречу, готов еще заплатить % за мес...  ...    1\n",
       "7164      У меня положительное отношение к этому банку.  ...    0\n",
       "7165  В общей сложности через 30 мин.мы ушли из банк...  ...    1\n",
       "\n",
       "[7166 rows x 6 columns]"
      ]
     },
     "execution_count": 94,
     "metadata": {},
     "output_type": "execute_result"
    }
   ],
   "source": [
    "df['punkt'] = df['sentence'].apply(check_punkt)\n",
    "df['nums'] = df['sentence'].apply(check_nums)\n",
    "df"
   ]
  },
  {
   "cell_type": "code",
   "execution_count": 73,
   "id": "4f8d1b12",
   "metadata": {
    "cellId": "i5t2ix3w4rvcdfpezxcpp"
   },
   "outputs": [
    {
     "data": {
      "text/plain": [
       "1        2\n",
       "2        2\n",
       "3        2\n",
       "6        2\n",
       "8        2\n",
       "        ..\n",
       "19353    2\n",
       "19355    2\n",
       "19356    2\n",
       "19357    2\n",
       "19360    2\n",
       "Name: sentiment, Length: 10192, dtype: int64"
      ]
     },
     "execution_count": 73,
     "metadata": {},
     "output_type": "execute_result"
    }
   ],
   "source": [
    "df[df.sentiment == 2].sentiment#.corr(df[df.sentiment == 2].punkt)"
   ]
  },
  {
   "cell_type": "code",
   "execution_count": 100,
   "id": "4ea4f6ee",
   "metadata": {
    "cellId": "9j8loiucogdigb5pfhloc"
   },
   "outputs": [
    {
     "data": {
      "text/plain": [
       "0    1963\n",
       "1     347\n",
       "Name: nums, dtype: int64"
      ]
     },
     "execution_count": 100,
     "metadata": {},
     "output_type": "execute_result"
    }
   ],
   "source": [
    "df[df.sentiment == 0].nums.value_counts()"
   ]
  },
  {
   "cell_type": "code",
   "execution_count": null,
   "id": "6bb67c50",
   "metadata": {
    "cellId": "jh8xhpe62nkgq929jnx5ko"
   },
   "outputs": [],
   "source": []
  },
  {
   "cell_type": "code",
   "execution_count": null,
   "id": "18ba1c27",
   "metadata": {
    "cellId": "trkqd43z6kp6dzt4gkjuvh"
   },
   "outputs": [],
   "source": []
  },
  {
   "cell_type": "code",
   "execution_count": null,
   "id": "ea5bc8f5",
   "metadata": {
    "cellId": "8sefq1eyoropiiazg680tg"
   },
   "outputs": [],
   "source": []
  },
  {
   "cell_type": "code",
   "execution_count": null,
   "id": "07c857c7",
   "metadata": {
    "cellId": "imswupfzy3b0y2l94fu4"
   },
   "outputs": [],
   "source": []
  },
  {
   "cell_type": "code",
   "execution_count": 61,
   "id": "af4e766f",
   "metadata": {
    "cellId": "gzs4c0x3ewmb3j8b8g3os"
   },
   "outputs": [
    {
     "data": {
      "text/html": [
       "<div>\n",
       "<style scoped>\n",
       "    .dataframe tbody tr th:only-of-type {\n",
       "        vertical-align: middle;\n",
       "    }\n",
       "\n",
       "    .dataframe tbody tr th {\n",
       "        vertical-align: top;\n",
       "    }\n",
       "\n",
       "    .dataframe thead th {\n",
       "        text-align: right;\n",
       "    }\n",
       "</style>\n",
       "<table border=\"1\" class=\"dataframe\">\n",
       "  <thead>\n",
       "    <tr style=\"text-align: right;\">\n",
       "      <th></th>\n",
       "      <th>sentence</th>\n",
       "      <th>1category</th>\n",
       "      <th>2category</th>\n",
       "      <th>sentiment</th>\n",
       "      <th>punkt</th>\n",
       "    </tr>\n",
       "  </thead>\n",
       "  <tbody>\n",
       "    <tr>\n",
       "      <th>1</th>\n",
       "      <td>Не вижу, за что хотя бы 2 поставить, сервис на 1!</td>\n",
       "      <td>?</td>\n",
       "      <td>NaN</td>\n",
       "      <td>0</td>\n",
       "      <td>1</td>\n",
       "    </tr>\n",
       "    <tr>\n",
       "      <th>2</th>\n",
       "      <td>Вот так \"Мой любимый\" банк МКБ меня обманул.</td>\n",
       "      <td>?</td>\n",
       "      <td>NaN</td>\n",
       "      <td>0</td>\n",
       "      <td>0</td>\n",
       "    </tr>\n",
       "    <tr>\n",
       "      <th>3</th>\n",
       "      <td>Отвратительное отношение к клиентам.</td>\n",
       "      <td>Communication</td>\n",
       "      <td>NaN</td>\n",
       "      <td>0</td>\n",
       "      <td>0</td>\n",
       "    </tr>\n",
       "    <tr>\n",
       "      <th>6</th>\n",
       "      <td>Абсолютное бездействие и нежелание банка работ...</td>\n",
       "      <td>Quality</td>\n",
       "      <td>NaN</td>\n",
       "      <td>0</td>\n",
       "      <td>0</td>\n",
       "    </tr>\n",
       "    <tr>\n",
       "      <th>7</th>\n",
       "      <td>Первая операция на внесение 122 000 руб. была ...</td>\n",
       "      <td>?</td>\n",
       "      <td>NaN</td>\n",
       "      <td>0</td>\n",
       "      <td>0</td>\n",
       "    </tr>\n",
       "    <tr>\n",
       "      <th>...</th>\n",
       "      <td>...</td>\n",
       "      <td>...</td>\n",
       "      <td>...</td>\n",
       "      <td>...</td>\n",
       "      <td>...</td>\n",
       "    </tr>\n",
       "    <tr>\n",
       "      <th>19353</th>\n",
       "      <td>Я уже писала отзыв о сложившейся ситуации, пос...</td>\n",
       "      <td>Communication</td>\n",
       "      <td>NaN</td>\n",
       "      <td>0</td>\n",
       "      <td>1</td>\n",
       "    </tr>\n",
       "    <tr>\n",
       "      <th>19355</th>\n",
       "      <td>Руководитель Ф-рин А. крайне неквалифицирован ...</td>\n",
       "      <td>Communication</td>\n",
       "      <td>NaN</td>\n",
       "      <td>0</td>\n",
       "      <td>1</td>\n",
       "    </tr>\n",
       "    <tr>\n",
       "      <th>19356</th>\n",
       "      <td>Никогда и ни в коем случае не открывайте счет ...</td>\n",
       "      <td>Communication</td>\n",
       "      <td>NaN</td>\n",
       "      <td>0</td>\n",
       "      <td>1</td>\n",
       "    </tr>\n",
       "    <tr>\n",
       "      <th>19357</th>\n",
       "      <td>ТИ откровенно забили на качество и развивают с...</td>\n",
       "      <td>Quality</td>\n",
       "      <td>NaN</td>\n",
       "      <td>0</td>\n",
       "      <td>0</td>\n",
       "    </tr>\n",
       "    <tr>\n",
       "      <th>19360</th>\n",
       "      <td>Данная ситуация меня сильно выбила из колеи, и...</td>\n",
       "      <td>Communication</td>\n",
       "      <td>NaN</td>\n",
       "      <td>0</td>\n",
       "      <td>0</td>\n",
       "    </tr>\n",
       "  </tbody>\n",
       "</table>\n",
       "<p>13099 rows × 5 columns</p>\n",
       "</div>"
      ],
      "text/plain": [
       "                                                sentence  ... punkt\n",
       "1      Не вижу, за что хотя бы 2 поставить, сервис на 1!  ...     1\n",
       "2           Вот так \"Мой любимый\" банк МКБ меня обманул.  ...     0\n",
       "3                   Отвратительное отношение к клиентам.  ...     0\n",
       "6      Абсолютное бездействие и нежелание банка работ...  ...     0\n",
       "7      Первая операция на внесение 122 000 руб. была ...  ...     0\n",
       "...                                                  ...  ...   ...\n",
       "19353  Я уже писала отзыв о сложившейся ситуации, пос...  ...     1\n",
       "19355  Руководитель Ф-рин А. крайне неквалифицирован ...  ...     1\n",
       "19356  Никогда и ни в коем случае не открывайте счет ...  ...     1\n",
       "19357  ТИ откровенно забили на качество и развивают с...  ...     0\n",
       "19360  Данная ситуация меня сильно выбила из колеи, и...  ...     0\n",
       "\n",
       "[13099 rows x 5 columns]"
      ]
     },
     "execution_count": 61,
     "metadata": {},
     "output_type": "execute_result"
    }
   ],
   "source": [
    "# df_negative = df[df.sentiment == 0]#['sentiment'].corr(df[df.sentiment == 0]['punkt'])\n",
    "# df_negative"
   ]
  },
  {
   "cell_type": "code",
   "execution_count": 88,
   "id": "f216a61d",
   "metadata": {
    "cellId": "ohtb35b5685ml90b33hia"
   },
   "outputs": [
    {
     "ename": "NameError",
     "evalue": "name 'df_negative' is not defined",
     "output_type": "error",
     "traceback": [
      "\u001b[0;31m---------------------------------------------------------------------------\u001b[0m",
      "\u001b[0;31mNameError\u001b[0m                                 Traceback (most recent call last)",
      "\u001b[0;32m<ipython-input-9-44b85f09164d>\u001b[0m in \u001b[0;36m<module>\u001b[0;34m\u001b[0m\n\u001b[0;32m----> 1\u001b[0;31m \u001b[0mdf_negative\u001b[0m\u001b[0;34m.\u001b[0m\u001b[0msentiment\u001b[0m\u001b[0;34m.\u001b[0m\u001b[0mcorr\u001b[0m\u001b[0;34m(\u001b[0m\u001b[0mdf_negative\u001b[0m\u001b[0;34m.\u001b[0m\u001b[0mpunkt\u001b[0m\u001b[0;34m)\u001b[0m\u001b[0;34m\u001b[0m\u001b[0;34m\u001b[0m\u001b[0m\n\u001b[0m\u001b[1;32m      2\u001b[0m \u001b[0;31m#\u001b[0m\u001b[0;34m\u001b[0m\u001b[0;34m\u001b[0m\u001b[0;34m\u001b[0m\u001b[0m\n",
      "\u001b[0;31mNameError\u001b[0m: name 'df_negative' is not defined"
     ]
    }
   ],
   "source": [
    "# df_negative.sentiment.corr(df_negative.punkt)"
   ]
  },
  {
   "cell_type": "code",
   "execution_count": null,
   "id": "fc44c9b5",
   "metadata": {
    "cellId": "j9hk23cp5wb5086i2pu3ps"
   },
   "outputs": [],
   "source": [
    "\"!?''\""
   ]
  },
  {
   "cell_type": "code",
   "execution_count": 27,
   "id": "edec34bb",
   "metadata": {
    "cellId": "p1ggfp9xfe2cmvnbzqp05"
   },
   "outputs": [
    {
     "data": {
      "text/plain": [
       "0"
      ]
     },
     "execution_count": 27,
     "metadata": {},
     "output_type": "execute_result"
    }
   ],
   "source": [
    "'всем привет!!'.count(r'[!?]')"
   ]
  },
  {
   "cell_type": "code",
   "execution_count": null,
   "id": "7c9690a2",
   "metadata": {
    "cellId": "yjke2qowbfiajvmo1em4yg"
   },
   "outputs": [],
   "source": []
  }
 ],
 "metadata": {
  "language_info": {
   "codemirror_mode": {
    "name": "ipython",
    "version": 3
   },
   "file_extension": ".py",
   "mimetype": "text/x-python",
   "name": "python",
   "nbconvert_exporter": "python",
   "pygments_lexer": "ipython3",
   "version": "3.7.7"
  },
  "notebookId": "23f437d4-9fbe-48d8-8477-73718c58ca3a",
  "notebookPath": "Untitled.ipynb"
 },
 "nbformat": 4,
 "nbformat_minor": 5
}
